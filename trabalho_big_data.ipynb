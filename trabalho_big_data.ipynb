{
 "cells": [
  {
   "cell_type": "markdown",
   "metadata": {},
   "source": [
    "# Comandos para realização do trabalho da matéria de Big Data com uso da biblioteca PySpark.\n",
    "\n",
    "Este notebook foi projetado para guiar os alunos na realização das práticas de Big Data utilizando PySpark. Certifique-se de seguir cada etapa cuidadosamente para garantir a correta execução das atividades.\n",
    "\n",
    "Seu trabalho começará na célula 5. Execute as 4 primeiras células para iniciar a atividade.\n",
    "\n",
    "## <font color=red>Observação importante:</font>\n",
    "\n",
    "<font color=yellow>Trabalho realizado com uso da biblioteca pandas não será aceito!</font>"
   ]
  },
  {
   "cell_type": "markdown",
   "metadata": {},
   "source": [
    "## Upload do arquivo `imdb-reviews-pt-br.csv` para dentro do Google Colab\n",
    "\n",
    "Aqui, você fará o download do dataset necessário para as atividades. Certifique-se de que o arquivo foi descompactado corretamente antes de prosseguir."
   ]
  },
  {
   "cell_type": "code",
   "execution_count": null,
   "metadata": {},
   "outputs": [],
   "source": [
    "!wget https://raw.githubusercontent.com/N-CPUninter/Big_Data/main/data/imdb-reviews-pt-br.zip -O imdb-reviews-pt-br.zip\n",
    "!unzip imdb-reviews-pt-br.zip\n",
    "!rm imdb-reviews-pt-br.zip"
   ]
  },
  {
   "cell_type": "markdown",
   "metadata": {},
   "source": [
    "## Instalação manual das dependências para uso do pyspark no Google Colab\n",
    "\n",
    "Esta etapa garante que todas as bibliotecas necessárias para o PySpark sejam instaladas no Google Colab."
   ]
  },
  {
   "cell_type": "code",
   "execution_count": null,
   "metadata": {},
   "outputs": [],
   "source": [
    "!pip install pyspark"
   ]
  },
  {
   "cell_type": "markdown",
   "metadata": {},
   "source": [
    "## Importar, instanciar e criar a SparkSession\n",
    "\n",
    "A SparkSession é o ponto de entrada para usar o PySpark. Certifique-se de configurar corretamente o nome do aplicativo e o master."
   ]
  },
  {
   "cell_type": "code",
   "execution_count": null,
   "metadata": {},
   "outputs": [],
   "source": [
    "from pyspark.sql import SparkSession\n",
    "\n",
    "appName = \"PySpark Trabalho de Big Data\"\n",
    "master = \"local\"\n",
    "\n",
    "spark = SparkSession.builder.appName(appName).master(master).getOrCreate()"
   ]
  },
  {
   "cell_type": "markdown",
   "metadata": {},
   "source": [
    "## Criar spark dataframe do CSV utilizando o método read.csv do spark\n",
    "\n",
    "Não altere este código e use o dataframe imdb_df criado aqui em todo o seu trabalho. A criação de um dataframe diferente deste poderá causar erros na coluna sentiment e isso refletirá em erros de resposta das questões."
   ]
  },
  {
   "cell_type": "code",
   "execution_count": null,
   "metadata": {},
   "outputs": [],
   "source": [
    "imdb_df = spark.read.csv('imdb-reviews-pt-br.csv', \n",
    "                         header=True, \n",
    "                         quote=\"\\\"\", \n",
    "                         escape=\"\\\"\", \n",
    "                         encoding=\"UTF-8\")"
   ]
  },
  {
   "cell_type": "markdown",
   "metadata": {},
   "source": [
    "# Questão 1\n",
    "\n",
    "Nesta questão, você irá calcular a soma dos IDs para entradas onde o sentimento ('sentiment') é 'neg'.\n",
    "\n",
    "### Objetivo:\n",
    "- Usar a coluna 'sentiment' como chave e somar os valores da coluna 'id'."
   ]
  },
  {
   "cell_type": "markdown",
   "metadata": {},
   "source": [
    "## Criar funções de MAP:\n",
    "- Criar função para mapear o \"sentiment\" como chave e o \"id\" como valor do tipo inteiro\n",
    "\n",
    "A função map irá transformar cada linha do dataframe em uma **tupla** (chave-valor), onde:\n",
    "- Chave: coluna 'sentiment'\n",
    "- Valor: coluna 'id' convertida para inteiro."
   ]
  },
  {
   "cell_type": "code",
   "execution_count": null,
   "metadata": {},
   "outputs": [],
   "source": [
    "def map1(x):\n",
    "  # Esta função deve retornar uma tupla (sentiment, id).\n",
    "  # o argumento de entrada x é uma linha do dataframe imdb_df \n",
    "  # com os dados em um formato semelhante à um dicionário\n",
    "  # Apague a linha abaixo para iniciar seu código.\n",
    "  pass"
   ]
  },
  {
   "cell_type": "markdown",
   "metadata": {},
   "source": [
    "## Cria funções de REDUCE:\n",
    "\n",
    "- Criar função de reduce para somar os IDs por \"sentiment\".\n",
    "\n",
    "A função reduce irá somar os valores dos IDs agrupados por chave ('sentiment')."
   ]
  },
  {
   "cell_type": "code",
   "execution_count": null,
   "metadata": {},
   "outputs": [],
   "source": [
    "def reduceByKey1(x,y):\n",
    "  # Coloque aqui o seu código para retornar o resultado necessário.\n",
    "  # x e y são valores que serão somados, pois o reduceByKey receberá\n",
    "  # apenas o segundo elemento da tupla vinda da saída da função map.\n",
    "  # Apague a linha abaixo para iniciar seu código.\n",
    "  pass"
   ]
  },
  {
   "cell_type": "markdown",
   "metadata": {},
   "source": [
    "## Aplicação do map/reduce e visualização do resultado\n",
    "\n",
    "Aqui, você aplicará as funções de map e reduce ao dataframe Spark para calcular os resultados. Não se esqueça de usar o método `.collect()` para visualizar os resultados."
   ]
  },
  {
   "cell_type": "code",
   "execution_count": null,
   "metadata": {},
   "outputs": [],
   "source": [
    "# Linha de código para aplicar o map/reduce no seu dataframe spark\n",
    "resultado = imdb_df.rdd.map(map1).reduceByKey(reduceByKey1).collect()\n",
    "# Coloque aqui o código para imprimir o resultado. Não esqueça seu RU:\n"
   ]
  },
  {
   "cell_type": "markdown",
   "metadata": {},
   "source": [
    "# Questão 2:\n",
    "\n",
    "Nesta questão, você irá calcular a diferença no número total de palavras entre textos negativos em português e inglês.\n",
    "\n",
    "### Objetivo:\n",
    "- Contar as palavras em cada idioma (colunas 'text_pt' e 'text_en') para entradas onde o sentimento ('sentiment') é 'neg'.\n",
    "- Subtrair o total de palavras em inglês do total em português."
   ]
  },
  {
   "cell_type": "markdown",
   "metadata": {},
   "source": [
    "## Criar funções de MAP:\n",
    "- Criar função para mapear o \"sentiment\" como chave de uma tupla principal e como valor uma outra tupla com a soma das palavras de cada idioma como valor.\n",
    "\n",
    "A função map irá transformar cada linha do dataframe em uma tupla (chave-valor), onde:\n",
    "- Chave: coluna 'sentiment'\n",
    "- Valor: Nova tupla com:\n",
    "  - Elemento 0: soma das palavras da coluna 'text_en'\n",
    "  - Elemento 1: soma das palavras da coluna 'text_pt'\n",
    "\n",
    "OU\n",
    "- Chave: coluna 'sentiment'\n",
    "- Valor: (soma das palavras da coluna 'text_pt') - (soma das palavras da coluna 'text_en')\n",
    "  \n",
    "\n",
    "Para contar as palavras deve-se primeiro separar os textos em uma lista de palavras para então descobrir o tamanho desta lista.\n",
    "Dicas:\n",
    "\n",
    "1. Use o método .split() e não .split(\" \") de string para separar as palavras em uma lista ou use a função split(coluna de texto, regex) do pyspark com o regex igual à \"[ ]+\" ou \"\\s+\"\n",
    "2. Use len() para descobrir o tamanho da lista de palavras."
   ]
  },
  {
   "cell_type": "code",
   "execution_count": null,
   "metadata": {},
   "outputs": [],
   "source": [
    "def map2(x):\n",
    "  # Coloque aqui o seu código para retornar a tupla necessária.\n",
    "  # Sugerimos o retorno em uma tupla com este formato:\n",
    "  #   (sentiment, (quantidade_de_palavras_em_en, quantidade_de_palavras_em_pt))\n",
    "  #   OU\n",
    "  #   (sentiment, quantidade_de_caracteres_em_pt-quantidade_de_caracteres_em_en)\n",
    "  # Apague a linha abaixo para iniciar seu código.\n",
    "  pass"
   ]
  },
  {
   "cell_type": "markdown",
   "metadata": {},
   "source": [
    "## Cria funções de REDUCE:\n",
    "\n",
    "- Criar função de reduce para somar o numero de palavras de cada texto português e inglês por \"sentiment\" (dependerá de como você optou por fazer sua função map2).\n",
    "\n",
    "A função reduce irá somar os valores das quantidades de palavras agrupados por chave ('sentiment')."
   ]
  },
  {
   "cell_type": "code",
   "execution_count": null,
   "metadata": {},
   "outputs": [],
   "source": [
    "def reduceByKey2(x,y):\n",
    "  # Coloque aqui o seu código para retornar o resultado necessário.\n",
    "  # x e y são valores que podem ser ou a tupla vinda da saída da função map\n",
    "  # contendo quantidade de palavras em inglês e português, ou a diferença, a \n",
    "  # depender da sua implementação da função map2.\n",
    "  # Apague a linha abaixo para iniciar seu código.\n",
    "  pass"
   ]
  },
  {
   "cell_type": "markdown",
   "metadata": {},
   "source": [
    "## Aplicação do map/reduce e visualização do resultado\n",
    "\n",
    "1. Aplicar o map/reduce no seu dataframe spark e realizar o collect() ao final\n",
    "2. Selecionar os dados referentes aos textos negativos para realizar a subtração.\n",
    "3. Realizar a subtração das contagens de palavras dos textos negativos para obter o resultado final"
   ]
  },
  {
   "cell_type": "code",
   "execution_count": null,
   "metadata": {},
   "outputs": [],
   "source": [
    "# Linha de código para aplicar o map/reduce no seu dataframe spark\n",
    "resultado = imdb_df.rdd.map(map2).reduceByKey(reduceByKey2).collect()\n",
    "# Coloque aqui suas linhas de código final para imprimir o resultado.\n",
    "# Não esqueça seu RU:\n"
   ]
  }
 ],
 "metadata": {
  "language_info": {
   "name": "python"
  },
  "orig_nbformat": 4
 },
 "nbformat": 4,
 "nbformat_minor": 2
}
